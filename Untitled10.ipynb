{
  "nbformat": 4,
  "nbformat_minor": 0,
  "metadata": {
    "colab": {
      "provenance": [],
      "authorship_tag": "ABX9TyNijEiWblrr9TPRBPSQwidL",
      "include_colab_link": true
    },
    "kernelspec": {
      "name": "python3",
      "display_name": "Python 3"
    },
    "language_info": {
      "name": "python"
    }
  },
  "cells": [
    {
      "cell_type": "markdown",
      "metadata": {
        "id": "view-in-github",
        "colab_type": "text"
      },
      "source": [
        "<a href=\"https://colab.research.google.com/github/giguiliene/Mecanica_BD/blob/main/Untitled10.ipynb\" target=\"_parent\"><img src=\"https://colab.research.google.com/assets/colab-badge.svg\" alt=\"Open In Colab\"/></a>"
      ]
    },
    {
      "cell_type": "code",
      "source": [
        "# Passo 1: Importar as bibliotecas necessárias\n",
        "import pandas as pd\n",
        "from sklearn.linear_model import LinearRegression\n",
        "\n",
        "# Passo 2: Criar os dados (pequeno conjunto de números da Mega-Sena)\n",
        "data = {\n",
        "    'Bola 1': [53, 50, 37, 16, 2],\n",
        "    'Bola 2': [56, 33, 50, 35, 18],\n",
        "    'Bola 3': [41, 7, 44, 10, 32],\n",
        "    'Bola 4': [1, 13, 28, 60, 28],\n",
        "    'Bola 5': [33, 14, 60, 46, 33],\n",
        "    'Bola 6': [12, 38, 21, 49, 12]\n",
        "    # Número que queremos prever\n",
        "}\n",
        "\n",
        "# Passo 3: Organizar os dados em um DataFrame (tabela)\n",
        "df = pd.DataFrame(data)\n",
        "\n",
        "# Passo 4: Separar as colunas \"Bola 1\" até \"Bola 5\" como entrada (X)\n",
        "# e a \"Bola 6\" como o valor que queremos prever (y)\n",
        "X = df[['Bola 1', 'Bola 2', 'Bola 3', 'Bola 4', 'Bola 5']]  # Entradas\n",
        "y = df['Bola 6']  # Saída que queremos prever\n",
        "\n",
        "# Passo 5: Criar o modelo de regressão linear\n",
        "modelo = LinearRegression()\n",
        "\n",
        "# Passo 6: Treinar o modelo com os dados\n",
        "modelo.fit(X, y)\n",
        "\n",
        "# Passo 7: Fazer uma previsão com base em novos números\n",
        "# Exemplo: Vamos usar os números [53, 56, 41, 1, 33] para prever a Bola 6\n",
        "predicao = modelo.predict([[53, 56, 41, 1, 33]])\n",
        "\n",
        "# Passo 8: Mostrar o resultado da previsão\n",
        "print(f\"Previsão para a Bola 6: {predicao[0]:.2f}\")\n"
      ],
      "metadata": {
        "id": "dse2mTtctlAx"
      },
      "execution_count": null,
      "outputs": []
    }
  ]
}