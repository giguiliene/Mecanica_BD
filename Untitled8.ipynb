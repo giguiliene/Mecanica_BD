{
  "nbformat": 4,
  "nbformat_minor": 0,
  "metadata": {
    "colab": {
      "provenance": [],
      "authorship_tag": "ABX9TyN3vAq27OpMSIAm7i6X6A9n",
      "include_colab_link": true
    },
    "kernelspec": {
      "name": "python3",
      "display_name": "Python 3"
    },
    "language_info": {
      "name": "python"
    }
  },
  "cells": [
    {
      "cell_type": "markdown",
      "metadata": {
        "id": "view-in-github",
        "colab_type": "text"
      },
      "source": [
        "<a href=\"https://colab.research.google.com/github/giguiliene/Mecanica_BD/blob/main/Untitled8.ipynb\" target=\"_parent\"><img src=\"https://colab.research.google.com/assets/colab-badge.svg\" alt=\"Open In Colab\"/></a>"
      ]
    },
    {
      "cell_type": "code",
      "execution_count": 1,
      "metadata": {
        "colab": {
          "base_uri": "https://localhost:8080/"
        },
        "id": "f_lAsWOIfFpn",
        "outputId": "912828c5-d920-4c0b-8b9b-9fd5c1f62e7d"
      },
      "outputs": [
        {
          "output_type": "stream",
          "name": "stdout",
          "text": [
            "Digite o salário atual do colaborador: 200\n",
            "Salário antes do reajuste: R$ 200.00\n",
            "Percentual de aumento aplicado: 20%\n",
            "Valor do aumento: R$ 40.00\n",
            "Novo salário após o aumento: R$ 240.00\n",
            "Valor do aumento real, descontando a inflação: R$ 30.88\n"
          ]
        }
      ],
      "source": [
        "# Função para calcular o reajuste salarial\n",
        "def calcular_reajuste(salario_atual):\n",
        "    if salario_atual <= 280:\n",
        "        percentual_aumento = 20\n",
        "    elif salario_atual <= 700:\n",
        "        percentual_aumento = 15\n",
        "    elif salario_atual <= 1500:\n",
        "        percentual_aumento = 10\n",
        "    else:\n",
        "        percentual_aumento = 5\n",
        "\n",
        "    # Calcula o valor do aumento e o novo salário\n",
        "    valor_aumento = salario_atual * (percentual_aumento / 100)\n",
        "    novo_salario = salario_atual + valor_aumento\n",
        "\n",
        "    # Inflacao do período\n",
        "    inflacao = 3.8\n",
        "\n",
        "    # Calcula o valor real do aumento, descontando a inflação\n",
        "    valor_aumento_real = valor_aumento - (novo_salario * (inflacao / 100))\n",
        "\n",
        "    # Exibe os resultados\n",
        "    print(f\"Salário antes do reajuste: R$ {salario_atual:.2f}\")\n",
        "    print(f\"Percentual de aumento aplicado: {percentual_aumento}%\")\n",
        "    print(f\"Valor do aumento: R$ {valor_aumento:.2f}\")\n",
        "    print(f\"Novo salário após o aumento: R$ {novo_salario:.2f}\")\n",
        "    print(f\"Valor do aumento real, descontando a inflação: R$ {valor_aumento_real:.2f}\")\n",
        "\n",
        "# Entrada do usuário\n",
        "salario_atual = float(input(\"Digite o salário atual do colaborador: \"))\n",
        "\n",
        "# Chamada da função para calcular o reajuste\n",
        "calcular_reajuste(salario_atual)\n"
      ]
    }
  ]
}